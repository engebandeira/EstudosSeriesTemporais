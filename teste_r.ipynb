{
 "cells": [
  {
   "cell_type": "code",
   "execution_count": null,
   "id": "d88ac659",
   "metadata": {
    "vscode": {
     "languageId": "r"
    }
   },
   "outputs": [
    {
     "name": "stderr",
     "output_type": "stream",
     "text": [
      "Warning message:\n",
      "\"pacote 'TSA' foi compilado no R versão 4.4.3\"\n"
     ]
    },
    {
     "name": "stderr",
     "output_type": "stream",
     "text": [
      "\n",
      "Anexando pacote: 'TSA'\n",
      "\n",
      "\n",
      "Os seguintes objetos são mascarados por 'package:stats':\n",
      "\n",
      "    acf, arima\n",
      "\n",
      "\n",
      "O seguinte objeto é mascarado por 'package:utils':\n",
      "\n",
      "    tar\n",
      "\n",
      "\n"
     ]
    }
   ],
   "source": [
    "library(TSA)\n",
    "library(readxl)"
   ]
  },
  {
   "cell_type": "code",
   "execution_count": null,
   "id": "57f71d0d",
   "metadata": {
    "vscode": {
     "languageId": "r"
    }
   },
   "outputs": [
    {
     "name": "stderr",
     "output_type": "stream",
     "text": [
      "Instalando pacote em 'C:/Users/everton.bandeira/AppData/Local/R/win-library/4.4'\n",
      "(como 'lib' não foi especificado)\n",
      "\n",
      "instalando as dependências 'rematch', 'hms', 'prettyunits', 'cellranger', 'progress' também\n",
      "\n",
      "\n"
     ]
    },
    {
     "name": "stdout",
     "output_type": "stream",
     "text": [
      "pacote 'rematch' desempacotado com sucesso e somas MD5 verificadas\n",
      "pacote 'hms' desempacotado com sucesso e somas MD5 verificadas\n",
      "pacote 'prettyunits' desempacotado com sucesso e somas MD5 verificadas\n",
      "pacote 'cellranger' desempacotado com sucesso e somas MD5 verificadas\n",
      "pacote 'progress' desempacotado com sucesso e somas MD5 verificadas\n",
      "pacote 'readxl' desempacotado com sucesso e somas MD5 verificadas\n",
      "\n",
      "Os pacotes binários baixados estão em\n",
      "\tC:\\Users\\everton.bandeira\\AppData\\Local\\Temp\\Rtmpa2KZSh\\downloaded_packages\n"
     ]
    }
   ],
   "source": [
    "df <- read_excel(\"caminho/para/seuarquivo.xlsx\")"
   ]
  },
  {
   "cell_type": "code",
   "execution_count": null,
   "id": "8762326e",
   "metadata": {
    "vscode": {
     "languageId": "r"
    }
   },
   "outputs": [],
   "source": []
  }
 ],
 "metadata": {
  "kernelspec": {
   "display_name": "R",
   "language": "R",
   "name": "ir"
  },
  "language_info": {
   "codemirror_mode": "r",
   "file_extension": ".r",
   "mimetype": "text/x-r-source",
   "name": "R",
   "pygments_lexer": "r",
   "version": "4.4.2"
  }
 },
 "nbformat": 4,
 "nbformat_minor": 5
}
